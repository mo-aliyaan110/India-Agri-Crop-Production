{
 "cells": [
  {
   "cell_type": "code",
   "execution_count": 2,
   "id": "3da2165c",
   "metadata": {},
   "outputs": [],
   "source": [
    "import numpy as np\n",
    "import pandas as pd\n",
    "import matplotlib.pyplot as plt\n",
    "import seaborn as sns"
   ]
  },
  {
   "cell_type": "code",
   "execution_count": 3,
   "id": "fbb9417e",
   "metadata": {},
   "outputs": [],
   "source": [
    "df = pd.read_csv('./DataSets/India Agriculture Crop Production.csv')"
   ]
  },
  {
   "cell_type": "code",
   "execution_count": 5,
   "id": "5122fa26",
   "metadata": {},
   "outputs": [
    {
     "data": {
      "text/html": [
       "<div>\n",
       "<style scoped>\n",
       "    .dataframe tbody tr th:only-of-type {\n",
       "        vertical-align: middle;\n",
       "    }\n",
       "\n",
       "    .dataframe tbody tr th {\n",
       "        vertical-align: top;\n",
       "    }\n",
       "\n",
       "    .dataframe thead th {\n",
       "        text-align: right;\n",
       "    }\n",
       "</style>\n",
       "<table border=\"1\" class=\"dataframe\">\n",
       "  <thead>\n",
       "    <tr style=\"text-align: right;\">\n",
       "      <th></th>\n",
       "      <th>State</th>\n",
       "      <th>District</th>\n",
       "      <th>Crop</th>\n",
       "      <th>Year</th>\n",
       "      <th>Season</th>\n",
       "      <th>Area</th>\n",
       "      <th>Area Units</th>\n",
       "      <th>Production</th>\n",
       "      <th>Production Units</th>\n",
       "      <th>Yield</th>\n",
       "    </tr>\n",
       "  </thead>\n",
       "  <tbody>\n",
       "    <tr>\n",
       "      <th>0</th>\n",
       "      <td>Andaman and Nicobar Islands</td>\n",
       "      <td>NICOBARS</td>\n",
       "      <td>Arecanut</td>\n",
       "      <td>2001-02</td>\n",
       "      <td>Kharif</td>\n",
       "      <td>1254.0</td>\n",
       "      <td>Hectare</td>\n",
       "      <td>2061.0</td>\n",
       "      <td>Tonnes</td>\n",
       "      <td>1.643541</td>\n",
       "    </tr>\n",
       "    <tr>\n",
       "      <th>1</th>\n",
       "      <td>Andaman and Nicobar Islands</td>\n",
       "      <td>NICOBARS</td>\n",
       "      <td>Arecanut</td>\n",
       "      <td>2002-03</td>\n",
       "      <td>Whole Year</td>\n",
       "      <td>1258.0</td>\n",
       "      <td>Hectare</td>\n",
       "      <td>2083.0</td>\n",
       "      <td>Tonnes</td>\n",
       "      <td>1.655803</td>\n",
       "    </tr>\n",
       "  </tbody>\n",
       "</table>\n",
       "</div>"
      ],
      "text/plain": [
       "                         State  District      Crop     Year      Season  \\\n",
       "0  Andaman and Nicobar Islands  NICOBARS  Arecanut  2001-02      Kharif   \n",
       "1  Andaman and Nicobar Islands  NICOBARS  Arecanut  2002-03  Whole Year   \n",
       "\n",
       "     Area Area Units  Production Production Units     Yield  \n",
       "0  1254.0    Hectare      2061.0           Tonnes  1.643541  \n",
       "1  1258.0    Hectare      2083.0           Tonnes  1.655803  "
      ]
     },
     "execution_count": 5,
     "metadata": {},
     "output_type": "execute_result"
    }
   ],
   "source": [
    "df.head(2)"
   ]
  },
  {
   "cell_type": "code",
   "execution_count": 6,
   "id": "82f42bfa",
   "metadata": {},
   "outputs": [
    {
     "data": {
      "text/plain": [
       "(345407, 10)"
      ]
     },
     "execution_count": 6,
     "metadata": {},
     "output_type": "execute_result"
    }
   ],
   "source": [
    "df.shape"
   ]
  },
  {
   "cell_type": "code",
   "execution_count": 7,
   "id": "51e0aa06",
   "metadata": {},
   "outputs": [
    {
     "name": "stdout",
     "output_type": "stream",
     "text": [
      "<class 'pandas.core.frame.DataFrame'>\n",
      "RangeIndex: 345407 entries, 0 to 345406\n",
      "Data columns (total 10 columns):\n",
      " #   Column            Non-Null Count   Dtype  \n",
      "---  ------            --------------   -----  \n",
      " 0   State             345407 non-null  object \n",
      " 1   District          345407 non-null  object \n",
      " 2   Crop              345375 non-null  object \n",
      " 3   Year              345407 non-null  object \n",
      " 4   Season            345406 non-null  object \n",
      " 5   Area              345374 non-null  float64\n",
      " 6   Area Units        345407 non-null  object \n",
      " 7   Production        340414 non-null  float64\n",
      " 8   Production Units  345407 non-null  object \n",
      " 9   Yield             345374 non-null  float64\n",
      "dtypes: float64(3), object(7)\n",
      "memory usage: 26.4+ MB\n"
     ]
    }
   ],
   "source": [
    "df.info()"
   ]
  },
  {
   "cell_type": "code",
   "execution_count": 8,
   "id": "9c075d74",
   "metadata": {},
   "outputs": [
    {
     "data": {
      "text/html": [
       "<div>\n",
       "<style scoped>\n",
       "    .dataframe tbody tr th:only-of-type {\n",
       "        vertical-align: middle;\n",
       "    }\n",
       "\n",
       "    .dataframe tbody tr th {\n",
       "        vertical-align: top;\n",
       "    }\n",
       "\n",
       "    .dataframe thead th {\n",
       "        text-align: right;\n",
       "    }\n",
       "</style>\n",
       "<table border=\"1\" class=\"dataframe\">\n",
       "  <thead>\n",
       "    <tr style=\"text-align: right;\">\n",
       "      <th></th>\n",
       "      <th>Area</th>\n",
       "      <th>Production</th>\n",
       "      <th>Yield</th>\n",
       "    </tr>\n",
       "  </thead>\n",
       "  <tbody>\n",
       "    <tr>\n",
       "      <th>Area</th>\n",
       "      <td>1.000000</td>\n",
       "      <td>0.048521</td>\n",
       "      <td>0.000426</td>\n",
       "    </tr>\n",
       "    <tr>\n",
       "      <th>Production</th>\n",
       "      <td>0.048521</td>\n",
       "      <td>1.000000</td>\n",
       "      <td>0.437400</td>\n",
       "    </tr>\n",
       "    <tr>\n",
       "      <th>Yield</th>\n",
       "      <td>0.000426</td>\n",
       "      <td>0.437400</td>\n",
       "      <td>1.000000</td>\n",
       "    </tr>\n",
       "  </tbody>\n",
       "</table>\n",
       "</div>"
      ],
      "text/plain": [
       "                Area  Production     Yield\n",
       "Area        1.000000    0.048521  0.000426\n",
       "Production  0.048521    1.000000  0.437400\n",
       "Yield       0.000426    0.437400  1.000000"
      ]
     },
     "execution_count": 8,
     "metadata": {},
     "output_type": "execute_result"
    }
   ],
   "source": [
    "df.corr()"
   ]
  },
  {
   "cell_type": "code",
   "execution_count": 9,
   "id": "f72b4489",
   "metadata": {},
   "outputs": [
    {
     "data": {
      "text/html": [
       "<div>\n",
       "<style scoped>\n",
       "    .dataframe tbody tr th:only-of-type {\n",
       "        vertical-align: middle;\n",
       "    }\n",
       "\n",
       "    .dataframe tbody tr th {\n",
       "        vertical-align: top;\n",
       "    }\n",
       "\n",
       "    .dataframe thead th {\n",
       "        text-align: right;\n",
       "    }\n",
       "</style>\n",
       "<table border=\"1\" class=\"dataframe\">\n",
       "  <thead>\n",
       "    <tr style=\"text-align: right;\">\n",
       "      <th></th>\n",
       "      <th>Area</th>\n",
       "      <th>Production</th>\n",
       "      <th>Yield</th>\n",
       "    </tr>\n",
       "  </thead>\n",
       "  <tbody>\n",
       "    <tr>\n",
       "      <th>Area</th>\n",
       "      <td>2.101161e+09</td>\n",
       "      <td>4.818441e+10</td>\n",
       "      <td>1.790628e+04</td>\n",
       "    </tr>\n",
       "    <tr>\n",
       "      <th>Production</th>\n",
       "      <td>4.818441e+10</td>\n",
       "      <td>4.635347e+14</td>\n",
       "      <td>8.694229e+09</td>\n",
       "    </tr>\n",
       "    <tr>\n",
       "      <th>Yield</th>\n",
       "      <td>1.790628e+04</td>\n",
       "      <td>8.694229e+09</td>\n",
       "      <td>8.402083e+05</td>\n",
       "    </tr>\n",
       "  </tbody>\n",
       "</table>\n",
       "</div>"
      ],
      "text/plain": [
       "                    Area    Production         Yield\n",
       "Area        2.101161e+09  4.818441e+10  1.790628e+04\n",
       "Production  4.818441e+10  4.635347e+14  8.694229e+09\n",
       "Yield       1.790628e+04  8.694229e+09  8.402083e+05"
      ]
     },
     "execution_count": 9,
     "metadata": {},
     "output_type": "execute_result"
    }
   ],
   "source": [
    "df.cov()"
   ]
  },
  {
   "cell_type": "code",
   "execution_count": 11,
   "id": "f6f18903",
   "metadata": {},
   "outputs": [
    {
     "data": {
      "text/plain": [
       "State               0.000000\n",
       "District            0.000000\n",
       "Crop                0.009264\n",
       "Year                0.000000\n",
       "Season              0.000290\n",
       "Area                0.009554\n",
       "Area Units          0.000000\n",
       "Production          1.445541\n",
       "Production Units    0.000000\n",
       "Yield               0.009554\n",
       "dtype: float64"
      ]
     },
     "execution_count": 11,
     "metadata": {},
     "output_type": "execute_result"
    }
   ],
   "source": [
    "df.isnull().sum()/len(df)*100 #around 1% missing data in the Production Units"
   ]
  },
  {
   "cell_type": "code",
   "execution_count": 12,
   "id": "550328d0",
   "metadata": {},
   "outputs": [
    {
     "data": {
      "text/plain": [
       "<AxesSubplot:>"
      ]
     },
     "execution_count": 12,
     "metadata": {},
     "output_type": "execute_result"
    },
    {
     "data": {
      "image/png": "[encoded data removed]",
      "text/plain": [
       "<Figure size 640x480 with 1 Axes>"
      ]
     },
     "metadata": {},
     "output_type": "display_data"
    }
   ],
   "source": [
    "df.plot(kind='box') # there are outliers in Area, Production and Yield, but more number of outliers in the production."
   ]
  },
  {
   "cell_type": "code",
   "execution_count": 13,
   "id": "73451687",
   "metadata": {},
   "outputs": [],
   "source": [
    "# categorical data"
   ]
  },
  {
   "cell_type": "code",
   "execution_count": 14,
   "id": "75d21df7",
   "metadata": {},
   "outputs": [
    {
     "name": "stdout",
     "output_type": "stream",
     "text": [
      "<class 'pandas.core.frame.DataFrame'>\n",
      "RangeIndex: 345407 entries, 0 to 345406\n",
      "Data columns (total 10 columns):\n",
      " #   Column            Non-Null Count   Dtype  \n",
      "---  ------            --------------   -----  \n",
      " 0   State             345407 non-null  object \n",
      " 1   District          345407 non-null  object \n",
      " 2   Crop              345375 non-null  object \n",
      " 3   Year              345407 non-null  object \n",
      " 4   Season            345406 non-null  object \n",
      " 5   Area              345374 non-null  float64\n",
      " 6   Area Units        345407 non-null  object \n",
      " 7   Production        340414 non-null  float64\n",
      " 8   Production Units  345407 non-null  object \n",
      " 9   Yield             345374 non-null  float64\n",
      "dtypes: float64(3), object(7)\n",
      "memory usage: 26.4+ MB\n"
     ]
    }
   ],
   "source": [
    "df.info() #there are 7 categorical variables. 'State, District, Crop, Year, Season, Area Units, Production Units'"
   ]
  },
  {
   "cell_type": "code",
   "execution_count": null,
   "id": "85af4bd1",
   "metadata": {},
   "outputs": [],
   "source": [
    "# lets treat the missing values first"
   ]
  },
  {
   "cell_type": "code",
   "execution_count": 15,
   "id": "4f92d5f1",
   "metadata": {},
   "outputs": [],
   "source": [
    "# There are missing values in 'Crop', 'Season', 'Area', 'Production', 'Yield'"
   ]
  },
  {
   "cell_type": "code",
   "execution_count": 41,
   "id": "b820cad4",
   "metadata": {},
   "outputs": [
    {
     "data": {
      "text/plain": [
       "1.0"
      ]
     },
     "execution_count": 41,
     "metadata": {},
     "output_type": "execute_result"
    }
   ],
   "source": [
    "df['Crop'].mode()\n",
    "df['Season'].mode()\n",
    "df['Area'].median()\n",
    "df['Production'].median()\n",
    "df['Yield'].median()"
   ]
  },
  {
   "cell_type": "code",
   "execution_count": 29,
   "id": "15f7bd92",
   "metadata": {},
   "outputs": [],
   "source": [
    "df['Crop'].fillna('Rice', inplace=True)"
   ]
  },
  {
   "cell_type": "code",
   "execution_count": 32,
   "id": "4e06aac9",
   "metadata": {},
   "outputs": [],
   "source": [
    "df['Season'].fillna('Kharif', inplace=True)"
   ]
  },
  {
   "cell_type": "code",
   "execution_count": 35,
   "id": "2aed60c2",
   "metadata": {},
   "outputs": [],
   "source": [
    "df['Area'].fillna(532.0, inplace=True)"
   ]
  },
  {
   "cell_type": "code",
   "execution_count": 38,
   "id": "0aa91b30",
   "metadata": {},
   "outputs": [],
   "source": [
    "df['Production'].fillna(717.0, inplace=True)"
   ]
  },
  {
   "cell_type": "code",
   "execution_count": 42,
   "id": "0c2b8839",
   "metadata": {},
   "outputs": [],
   "source": [
    "df['Yield'].fillna(1.0, inplace=True)"
   ]
  },
  {
   "cell_type": "code",
   "execution_count": 43,
   "id": "f2e40197",
   "metadata": {},
   "outputs": [
    {
     "data": {
      "text/plain": [
       "State               0\n",
       "District            0\n",
       "Crop                0\n",
       "Year                0\n",
       "Season              0\n",
       "Area                0\n",
       "Area Units          0\n",
       "Production          0\n",
       "Production Units    0\n",
       "Yield               0\n",
       "dtype: int64"
      ]
     },
     "execution_count": 43,
     "metadata": {},
     "output_type": "execute_result"
    }
   ],
   "source": [
    "df.isnull().sum()"
   ]
  },
  {
   "cell_type": "code",
   "execution_count": null,
   "id": "b496aa2a",
   "metadata": {},
   "outputs": [],
   "source": [
    "# Lets handle the categorical variables"
   ]
  },
  {
   "cell_type": "code",
   "execution_count": 46,
   "id": "c63c3baf",
   "metadata": {},
   "outputs": [],
   "source": [
    "# separting the cat and num variables\n",
    "\n",
    "cat = df.select_dtypes(include='object')\n",
    "num = df.select_dtypes(include=np.number)"
   ]
  },
  {
   "cell_type": "code",
   "execution_count": 49,
   "id": "1e3cb5ac",
   "metadata": {},
   "outputs": [],
   "source": [
    "# for i in cat.columns:\n",
    "#     print(cat.value_counts())\n",
    "#     print('\\n\\n')"
   ]
  },
  {
   "cell_type": "code",
   "execution_count": 52,
   "id": "a77ff852",
   "metadata": {},
   "outputs": [
    {
     "data": {
      "text/plain": [
       "Uttar Pradesh                  0.129647\n",
       "Madhya Pradesh                 0.086582\n",
       "Karnataka                      0.079596\n",
       "Bihar                          0.071501\n",
       "Rajasthan                      0.058954\n",
       "Tamil Nadu                     0.053632\n",
       "Assam                          0.052651\n",
       "Maharashtra                    0.051887\n",
       "Andhra Pradesh                 0.047373\n",
       "Odisha                         0.046765\n",
       "Chhattisgarh                   0.044252\n",
       "Gujarat                        0.040685\n",
       "West Bengal                    0.036467\n",
       "Haryana                        0.024044\n",
       "Uttarakhand                    0.019403\n",
       "Nagaland                       0.016433\n",
       "Himachal Pradesh               0.014600\n",
       "Jharkhand                      0.014487\n",
       "Kerala                         0.014099\n",
       "Telangana                      0.013619\n",
       "Jammu and Kashmir              0.012588\n",
       "Arunachal Pradesh              0.012579\n",
       "Meghalaya                      0.012513\n",
       "Punjab                         0.011992\n",
       "Manipur                        0.009033\n",
       "Tripura                        0.007403\n",
       "Mizoram                        0.006115\n",
       "Puducherry                     0.003263\n",
       "Sikkim                         0.002536\n",
       "Andaman and Nicobar Islands    0.002108\n",
       "Goa                            0.001155\n",
       "Dadra and Nagar Haveli         0.000961\n",
       "Delhi                          0.000588\n",
       "Chandigarh                     0.000359\n",
       "Daman and Diu                  0.000127\n",
       "Laddakh                        0.000003\n",
       "Name: State, dtype: float64"
      ]
     },
     "execution_count": 52,
     "metadata": {},
     "output_type": "execute_result"
    }
   ],
   "source": [
    "cat['State'].value_counts(normalize=True)"
   ]
  },
  {
   "cell_type": "code",
   "execution_count": 55,
   "id": "65e5fc3a",
   "metadata": {},
   "outputs": [
    {
     "data": {
      "text/html": [
       "<div>\n",
       "<style scoped>\n",
       "    .dataframe tbody tr th:only-of-type {\n",
       "        vertical-align: middle;\n",
       "    }\n",
       "\n",
       "    .dataframe tbody tr th {\n",
       "        vertical-align: top;\n",
       "    }\n",
       "\n",
       "    .dataframe thead th {\n",
       "        text-align: right;\n",
       "    }\n",
       "</style>\n",
       "<table border=\"1\" class=\"dataframe\">\n",
       "  <thead>\n",
       "    <tr style=\"text-align: right;\">\n",
       "      <th></th>\n",
       "      <th>State</th>\n",
       "      <th>District</th>\n",
       "      <th>Crop</th>\n",
       "      <th>Year</th>\n",
       "      <th>Season</th>\n",
       "      <th>Area Units</th>\n",
       "      <th>Production Units</th>\n",
       "    </tr>\n",
       "  </thead>\n",
       "  <tbody>\n",
       "    <tr>\n",
       "      <th>0</th>\n",
       "      <td>Andaman and Nicobar Islands</td>\n",
       "      <td>NICOBARS</td>\n",
       "      <td>Arecanut</td>\n",
       "      <td>2001-02</td>\n",
       "      <td>Kharif</td>\n",
       "      <td>Hectare</td>\n",
       "      <td>Tonnes</td>\n",
       "    </tr>\n",
       "    <tr>\n",
       "      <th>1</th>\n",
       "      <td>Andaman and Nicobar Islands</td>\n",
       "      <td>NICOBARS</td>\n",
       "      <td>Arecanut</td>\n",
       "      <td>2002-03</td>\n",
       "      <td>Whole Year</td>\n",
       "      <td>Hectare</td>\n",
       "      <td>Tonnes</td>\n",
       "    </tr>\n",
       "    <tr>\n",
       "      <th>2</th>\n",
       "      <td>Andaman and Nicobar Islands</td>\n",
       "      <td>NICOBARS</td>\n",
       "      <td>Arecanut</td>\n",
       "      <td>2003-04</td>\n",
       "      <td>Whole Year</td>\n",
       "      <td>Hectare</td>\n",
       "      <td>Tonnes</td>\n",
       "    </tr>\n",
       "    <tr>\n",
       "      <th>3</th>\n",
       "      <td>Andaman and Nicobar Islands</td>\n",
       "      <td>NORTH AND MIDDLE ANDAMAN</td>\n",
       "      <td>Arecanut</td>\n",
       "      <td>2001-02</td>\n",
       "      <td>Kharif</td>\n",
       "      <td>Hectare</td>\n",
       "      <td>Tonnes</td>\n",
       "    </tr>\n",
       "    <tr>\n",
       "      <th>4</th>\n",
       "      <td>Andaman and Nicobar Islands</td>\n",
       "      <td>SOUTH ANDAMANS</td>\n",
       "      <td>Arecanut</td>\n",
       "      <td>2002-03</td>\n",
       "      <td>Whole Year</td>\n",
       "      <td>Hectare</td>\n",
       "      <td>Tonnes</td>\n",
       "    </tr>\n",
       "    <tr>\n",
       "      <th>...</th>\n",
       "      <td>...</td>\n",
       "      <td>...</td>\n",
       "      <td>...</td>\n",
       "      <td>...</td>\n",
       "      <td>...</td>\n",
       "      <td>...</td>\n",
       "      <td>...</td>\n",
       "    </tr>\n",
       "    <tr>\n",
       "      <th>345402</th>\n",
       "      <td>Manipur</td>\n",
       "      <td>IMPHAL WEST</td>\n",
       "      <td>Rice</td>\n",
       "      <td>2019-20</td>\n",
       "      <td>Rabi</td>\n",
       "      <td>Hectare</td>\n",
       "      <td>Tonnes</td>\n",
       "    </tr>\n",
       "    <tr>\n",
       "      <th>345403</th>\n",
       "      <td>Manipur</td>\n",
       "      <td>SENAPATI</td>\n",
       "      <td>Rice</td>\n",
       "      <td>2019-20</td>\n",
       "      <td>Rabi</td>\n",
       "      <td>Hectare</td>\n",
       "      <td>Tonnes</td>\n",
       "    </tr>\n",
       "    <tr>\n",
       "      <th>345404</th>\n",
       "      <td>Manipur</td>\n",
       "      <td>TAMENGLONG</td>\n",
       "      <td>Rice</td>\n",
       "      <td>2019-20</td>\n",
       "      <td>Rabi</td>\n",
       "      <td>Hectare</td>\n",
       "      <td>Tonnes</td>\n",
       "    </tr>\n",
       "    <tr>\n",
       "      <th>345405</th>\n",
       "      <td>Manipur</td>\n",
       "      <td>THOUBAL</td>\n",
       "      <td>Rice</td>\n",
       "      <td>2019-20</td>\n",
       "      <td>Rabi</td>\n",
       "      <td>Hectare</td>\n",
       "      <td>Tonnes</td>\n",
       "    </tr>\n",
       "    <tr>\n",
       "      <th>345406</th>\n",
       "      <td>Manipur</td>\n",
       "      <td>UKHRUL</td>\n",
       "      <td>Rice</td>\n",
       "      <td>2019-20</td>\n",
       "      <td>Rabi</td>\n",
       "      <td>Hectare</td>\n",
       "      <td>Tonnes</td>\n",
       "    </tr>\n",
       "  </tbody>\n",
       "</table>\n",
       "<p>345407 rows × 7 columns</p>\n",
       "</div>"
      ],
      "text/plain": [
       "                              State                  District      Crop  \\\n",
       "0       Andaman and Nicobar Islands                  NICOBARS  Arecanut   \n",
       "1       Andaman and Nicobar Islands                  NICOBARS  Arecanut   \n",
       "2       Andaman and Nicobar Islands                  NICOBARS  Arecanut   \n",
       "3       Andaman and Nicobar Islands  NORTH AND MIDDLE ANDAMAN  Arecanut   \n",
       "4       Andaman and Nicobar Islands            SOUTH ANDAMANS  Arecanut   \n",
       "...                             ...                       ...       ...   \n",
       "345402                      Manipur               IMPHAL WEST      Rice   \n",
       "345403                      Manipur                  SENAPATI      Rice   \n",
       "345404                      Manipur                TAMENGLONG      Rice   \n",
       "345405                      Manipur                   THOUBAL      Rice   \n",
       "345406                      Manipur                    UKHRUL      Rice   \n",
       "\n",
       "           Year      Season Area Units Production Units  \n",
       "0       2001-02      Kharif    Hectare           Tonnes  \n",
       "1       2002-03  Whole Year    Hectare           Tonnes  \n",
       "2       2003-04  Whole Year    Hectare           Tonnes  \n",
       "3       2001-02      Kharif    Hectare           Tonnes  \n",
       "4       2002-03  Whole Year    Hectare           Tonnes  \n",
       "...         ...         ...        ...              ...  \n",
       "345402  2019-20        Rabi    Hectare           Tonnes  \n",
       "345403  2019-20        Rabi    Hectare           Tonnes  \n",
       "345404  2019-20        Rabi    Hectare           Tonnes  \n",
       "345405  2019-20        Rabi    Hectare           Tonnes  \n",
       "345406  2019-20        Rabi    Hectare           Tonnes  \n",
       "\n",
       "[345407 rows x 7 columns]"
      ]
     },
     "execution_count": 55,
     "metadata": {},
     "output_type": "execute_result"
    }
   ],
   "source": [
    "cat"
   ]
  },
  {
   "cell_type": "code",
   "execution_count": null,
   "id": "9ac7619a",
   "metadata": {},
   "outputs": [],
   "source": [
    "# We are doing Label-Encoding "
   ]
  },
  {
   "cell_type": "code",
   "execution_count": 57,
   "id": "2e130b14",
   "metadata": {},
   "outputs": [],
   "source": [
    "from sklearn.preprocessing import LabelEncoder"
   ]
  },
  {
   "cell_type": "code",
   "execution_count": 58,
   "id": "d606c2f9",
   "metadata": {},
   "outputs": [],
   "source": [
    "le = LabelEncoder()"
   ]
  },
  {
   "cell_type": "code",
   "execution_count": 59,
   "id": "96bb53d9",
   "metadata": {},
   "outputs": [],
   "source": [
    "df['State'] = le.fit_transform(df['State'])"
   ]
  },
  {
   "cell_type": "code",
   "execution_count": 61,
   "id": "a87f1915",
   "metadata": {},
   "outputs": [],
   "source": [
    "df['District'] = le.fit_transform(df['District'])\n",
    "df['Crop'] = le.fit_transform(df['District'])\n",
    "df['Year'] = le.fit_transform(df['Year'])\n",
    "df['Season'] = le.fit_transform(df['Season'])\n",
    "df['Area Units'] = le.fit_transform(df['Area Units'])\n",
    "df['Production Units'] = le.fit_transform(df['Production Units'])"
   ]
  },
  {
   "cell_type": "code",
   "execution_count": 62,
   "id": "466476fa",
   "metadata": {},
   "outputs": [
    {
     "data": {
      "text/html": [
       "<div>\n",
       "<style scoped>\n",
       "    .dataframe tbody tr th:only-of-type {\n",
       "        vertical-align: middle;\n",
       "    }\n",
       "\n",
       "    .dataframe tbody tr th {\n",
       "        vertical-align: top;\n",
       "    }\n",
       "\n",
       "    .dataframe thead th {\n",
       "        text-align: right;\n",
       "    }\n",
       "</style>\n",
       "<table border=\"1\" class=\"dataframe\">\n",
       "  <thead>\n",
       "    <tr style=\"text-align: right;\">\n",
       "      <th></th>\n",
       "      <th>State</th>\n",
       "      <th>District</th>\n",
       "      <th>Crop</th>\n",
       "      <th>Year</th>\n",
       "      <th>Season</th>\n",
       "      <th>Area</th>\n",
       "      <th>Area Units</th>\n",
       "      <th>Production</th>\n",
       "      <th>Production Units</th>\n",
       "      <th>Yield</th>\n",
       "    </tr>\n",
       "  </thead>\n",
       "  <tbody>\n",
       "    <tr>\n",
       "      <th>0</th>\n",
       "      <td>0</td>\n",
       "      <td>481</td>\n",
       "      <td>481</td>\n",
       "      <td>4</td>\n",
       "      <td>1</td>\n",
       "      <td>1254.0</td>\n",
       "      <td>0</td>\n",
       "      <td>2061.0</td>\n",
       "      <td>2</td>\n",
       "      <td>1.643541</td>\n",
       "    </tr>\n",
       "    <tr>\n",
       "      <th>1</th>\n",
       "      <td>0</td>\n",
       "      <td>481</td>\n",
       "      <td>481</td>\n",
       "      <td>5</td>\n",
       "      <td>4</td>\n",
       "      <td>1258.0</td>\n",
       "      <td>0</td>\n",
       "      <td>2083.0</td>\n",
       "      <td>2</td>\n",
       "      <td>1.655803</td>\n",
       "    </tr>\n",
       "    <tr>\n",
       "      <th>2</th>\n",
       "      <td>0</td>\n",
       "      <td>481</td>\n",
       "      <td>481</td>\n",
       "      <td>6</td>\n",
       "      <td>4</td>\n",
       "      <td>1261.0</td>\n",
       "      <td>0</td>\n",
       "      <td>1525.0</td>\n",
       "      <td>2</td>\n",
       "      <td>1.209358</td>\n",
       "    </tr>\n",
       "    <tr>\n",
       "      <th>3</th>\n",
       "      <td>0</td>\n",
       "      <td>485</td>\n",
       "      <td>485</td>\n",
       "      <td>4</td>\n",
       "      <td>1</td>\n",
       "      <td>3100.0</td>\n",
       "      <td>0</td>\n",
       "      <td>5239.0</td>\n",
       "      <td>2</td>\n",
       "      <td>1.690000</td>\n",
       "    </tr>\n",
       "    <tr>\n",
       "      <th>4</th>\n",
       "      <td>0</td>\n",
       "      <td>627</td>\n",
       "      <td>627</td>\n",
       "      <td>5</td>\n",
       "      <td>4</td>\n",
       "      <td>3105.0</td>\n",
       "      <td>0</td>\n",
       "      <td>5267.0</td>\n",
       "      <td>2</td>\n",
       "      <td>1.696296</td>\n",
       "    </tr>\n",
       "  </tbody>\n",
       "</table>\n",
       "</div>"
      ],
      "text/plain": [
       "   State  District  Crop  Year  Season    Area  Area Units  Production  \\\n",
       "0      0       481   481     4       1  1254.0           0      2061.0   \n",
       "1      0       481   481     5       4  1258.0           0      2083.0   \n",
       "2      0       481   481     6       4  1261.0           0      1525.0   \n",
       "3      0       485   485     4       1  3100.0           0      5239.0   \n",
       "4      0       627   627     5       4  3105.0           0      5267.0   \n",
       "\n",
       "   Production Units     Yield  \n",
       "0                 2  1.643541  \n",
       "1                 2  1.655803  \n",
       "2                 2  1.209358  \n",
       "3                 2  1.690000  \n",
       "4                 2  1.696296  "
      ]
     },
     "execution_count": 62,
     "metadata": {},
     "output_type": "execute_result"
    }
   ],
   "source": [
    "df.head()"
   ]
  },
  {
   "cell_type": "code",
   "execution_count": null,
   "id": "9e35b66e",
   "metadata": {},
   "outputs": [],
   "source": [
    "# We first build the linearRegression model"
   ]
  },
  {
   "cell_type": "code",
   "execution_count": 73,
   "id": "48d66ae3",
   "metadata": {},
   "outputs": [],
   "source": [
    "from sklearn.linear_model import LinearRegression\n",
    "from sklearn.model_selection import train_test_split\n",
    "from sklearn.metrics import r2_score, mean_squared_error"
   ]
  },
  {
   "cell_type": "code",
   "execution_count": 65,
   "id": "b57508bf",
   "metadata": {},
   "outputs": [],
   "source": [
    "lr = LinearRegression()"
   ]
  },
  {
   "cell_type": "code",
   "execution_count": 67,
   "id": "26512231",
   "metadata": {},
   "outputs": [],
   "source": [
    "X = df.drop('Yield', axis=1)\n",
    "y = df['Yield']"
   ]
  },
  {
   "cell_type": "code",
   "execution_count": 70,
   "id": "cef5fdcc",
   "metadata": {},
   "outputs": [],
   "source": [
    "xtrain, xtest, ytrain, ytest = train_test_split(X,y, test_size=0.3, random_state=10)"
   ]
  },
  {
   "cell_type": "code",
   "execution_count": 71,
   "id": "1134fb65",
   "metadata": {},
   "outputs": [],
   "source": [
    "lr_model = lr.fit(xtrain, ytrain)"
   ]
  },
  {
   "cell_type": "code",
   "execution_count": 74,
   "id": "55865ba4",
   "metadata": {},
   "outputs": [],
   "source": [
    "# train predict\n",
    "train_pred = lr_model.predict(xtrain)\n"
   ]
  },
  {
   "cell_type": "code",
   "execution_count": 75,
   "id": "51a41d47",
   "metadata": {},
   "outputs": [],
   "source": [
    "# test predict\n",
    "test_pred = lr_model.predict(xtest)"
   ]
  },
  {
   "cell_type": "code",
   "execution_count": null,
   "id": "ed0e25e2",
   "metadata": {},
   "outputs": [],
   "source": []
  },
  {
   "cell_type": "code",
   "execution_count": 78,
   "id": "3408bdce",
   "metadata": {},
   "outputs": [
    {
     "data": {
      "text/plain": [
       "0.22714321559134776"
      ]
     },
     "execution_count": 78,
     "metadata": {},
     "output_type": "execute_result"
    }
   ],
   "source": [
    "# train accuracy\n",
    "r2_score(ytrain, train_pred)"
   ]
  },
  {
   "cell_type": "code",
   "execution_count": 77,
   "id": "bb94c2e3",
   "metadata": {},
   "outputs": [
    {
     "data": {
      "text/plain": [
       "0.24843477561461358"
      ]
     },
     "execution_count": 77,
     "metadata": {},
     "output_type": "execute_result"
    }
   ],
   "source": [
    "# test accuracy\n",
    "r2_score(ytest, test_pred)"
   ]
  }
 ],
 "metadata": {
  "kernelspec": {
   "display_name": "Python 3 (ipykernel)",
   "language": "python",
   "name": "python3"
  },
  "language_info": {
   "codemirror_mode": {
    "name": "ipython",
    "version": 3
   },
   "file_extension": ".py",
   "mimetype": "text/x-python",
   "name": "python",
   "nbconvert_exporter": "python",
   "pygments_lexer": "ipython3",
   "version": "3.9.13"
  }
 },
 "nbformat": 4,
 "nbformat_minor": 5
}
